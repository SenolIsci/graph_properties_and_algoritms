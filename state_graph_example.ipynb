{
 "cells": [
  {
   "cell_type": "code",
   "execution_count": 10,
   "metadata": {},
   "outputs": [],
   "source": [
    "# %load state_graph_example.py\n",
    "\"\"\"\n",
    "Created on Fri Feb 26 23:44:02 2021\n",
    "\n",
    "@author: User\n",
    "\"\"\"\n",
    "import networkx as nx\n",
    "import matplotlib.pyplot as plt\n",
    "import pandas as pd\n",
    "\n",
    "Evt_SYMB=\"Evt\"\n",
    "\n",
    "#import sys\n",
    "#old_target=sys.stdout\n",
    "#sys.stdout = open('state_machine_checker_v1.txt', 'w')\n",
    "#\n"
   ]
  },
  {
   "cell_type": "code",
   "execution_count": 11,
   "metadata": {},
   "outputs": [],
   "source": [
    "def draw_graph(G):\n",
    "    \n",
    "    fig, ax = plt.subplots(figsize=(16, 12))\n",
    "    \n",
    "    pos = nx.circular_layout(G)\n",
    "    #pos = nx.planar_layout(G)\n",
    "    #pos = nx.kamada_kawai_layout(G)\n",
    "    #pos = nx.multipartite_layout(G)  \n",
    "    nx.draw(G, pos,with_labels=True,connectionstyle='arc3, rad = 0.07',node_size=1500, node_color=\"skyblue\", node_shape=\"s\", font_size=15, font_weight=\"bold\",alpha=0.5, linewidths=40,width=4) \n",
    "    edge_labels = nx.get_edge_attributes(G,Evt_SYMB)\n",
    "    nx.draw_networkx_edge_labels(G, pos, labels = edge_labels,font_color=\"grey\",font_size=13)\n",
    "    graph_title=G.graph[\"title\"]\n",
    "    plt.title(graph_title+\"\\n\\n\")\n",
    "    plt.savefig(graph_title+\"state_diagram_graph_structure\"+\".png\",dpi=300) \n",
    "    \n",
    "    plt.show()\n",
    "\n",
    "\n",
    "def construct_graph_coffee_machine(file_to_read=None):\n",
    "    \n",
    "    G = nx.MultiDiGraph()\n",
    "    #G.add_edge(\"idle\",\"idle\",Evt=\"simple sanity check\")\n",
    "    G.add_edge(\"idle\",\"deposit\",Evt=\"coin inserted\")\n",
    "    G.add_edge(\"deposit\",\"deposit\",Evt=\"coin inserted\")\n",
    "    G.add_edge(\"deposit\",\"idle\",Evt=\"coin return\")\n",
    "    G.add_edge(\"deposit\",\"selection\",Evt=\"rigth amount entered\")\n",
    "    G.add_edge(\"selection\",\"idle\",Evt=\"coin return\")\n",
    "    G.add_edge(\"selection\",\"making coffee\",Evt=\"button pushed\")\n",
    "    G.add_edge(\"making coffee\",\"idle\",Evt=\"cup removed\")\n",
    "    G.add_edge(\"making coffee\",\"maintenance\",Evt=\"sensor alert\")\n",
    "    G.add_edge(\"maintenance\",\"idle\",Evt=\"reset button\")\n",
    "    G.add_edge(\"off\", \"idle\",Evt=\"power up\")\n",
    "    #G.add_node(\"fake\")\n",
    "    # G.add_edge(\"idle\",\"maintenance\",Evt=\"self check failed\")\n",
    "    # G.add_edge(\"idle\",\"off\",Evt=\"power off\")\n",
    "    # G.add_edge(\"deposit\",\"off\",Evt=\"power off\")\n",
    "    # G.add_edge(\"selection\",\"off\",Evt=\"power off\")\n",
    "    # G.add_edge(\"making coffee\",\"off\",Evt=\"power off\")\n",
    "    # G.add_edge(\"maintenance\",\"off\",Evt=\"power off\")\n",
    "    \n",
    "    G.graph[\"title\"]=\"coffee_machine\"\n",
    "    return G\n",
    "\n",
    "\n",
    "def construct_graph_pin_automata(file_to_read=None):\n",
    "    \n",
    "    G = nx.MultiDiGraph()\n",
    "    #G.add_edge(\"idle\",\"idle\",Evt=\"simple sanity check\")\n",
    "    G.add_edge(\"start\",\"wait for PIN\",Evt=\"card inserted\")\n",
    "    G.add_edge(\"wait for PIN\",\"1st try\", Evt=\"enter PIN\")\n",
    "    G.add_edge(\"1st try\",\"2st try\", Evt=\"PIN not OK\")\n",
    "    G.add_edge(\"2st try\",\"3rd try\", Evt=\"PIN not OK\")  \n",
    "    G.add_edge(\"3rd try\", \"eat card\", Evt=\"PIN not OK\")  \n",
    "    G.add_edge(\"1st try\", \"access to account\", Evt=\"PIN OK\")   \n",
    "    G.add_edge(\"2st try\", \"access to account\", Evt=\"PIN OK\")   \n",
    "    G.add_edge(\"3rd try\", \"access to account\", Evt=\"PIN OK\")   \n",
    "    \n",
    "    #G.add_node(\"fake\")\n",
    "    # G.add_edge(\"idle\",\"maintenance\",Evt=\"self check failed\")\n",
    "    # G.add_edge(\"idle\",\"off\",Evt=\"power off\")\n",
    "    # G.add_edge(\"deposit\",\"off\",Evt=\"power off\")\n",
    "    # G.add_edge(\"selection\",\"off\",Evt=\"power off\")\n",
    "    # G.add_edge(\"making coffee\",\"off\",Evt=\"power off\")\n",
    "    # G.add_edge(\"maintenance\",\"off\",Evt=\"power off\")\n",
    "\n",
    "    G.graph[\"title\"]=\"pin_automata\"    \n",
    "    return G\n",
    "\n",
    "\n",
    "def construct_graph_count_double_zeros_automata_v1(file_to_read=None):\n",
    "    \n",
    "    G = nx.MultiDiGraph()\n",
    "    #G.add_edge(\"idle\",\"idle\",Evt=\"simple sanity check\")\n",
    "    G.add_edge(\"S1\",\"S2\",Evt=\"0\")\n",
    "    G.add_edge(\"S1\",\"S1\",Evt=\"1\")\n",
    "    G.add_edge(\"S2\",\"S1\",Evt=\"0\")\n",
    "    G.add_edge(\"S2\",\"S2\",Evt=\"1\")\n",
    "\n",
    "    # G.add_edge(\"maintenance\",\"off\",Evt=\"power off\")\n",
    "\n",
    "    G.graph[\"title\"]=\"count_double_zeros_automata_v1\"    \n",
    "    return G\n",
    "\n",
    "\n",
    "def construct_graph_count_double_zeros_automata_v2(file_to_read=None):\n",
    "    \n",
    "    G = nx.MultiDiGraph()\n",
    "    #G.add_edge(\"idle\",\"idle\",Evt=\"simple sanity check\")\n",
    "    G.add_edge(\"S1\",\"S2\",Evt=\"0\")\n",
    "    G.add_edge(\"S1\",\"S1\",Evt=\"1\")\n",
    "    G.add_edge(\"S2\",\"S3\",Evt=\"0\")\n",
    "    G.add_edge(\"S2\",\"S2\",Evt=\"1\")    \n",
    "    G.add_edge(\"S3\",\"S1\",Evt=\"1\")\n",
    "\n",
    "    # G.add_edge(\"maintenance\",\"off\",Evt=\"power off\")\n",
    "\n",
    "    G.graph[\"title\"]=\"count_double_zeros_automata_v1\"    \n",
    "    return G\n",
    "\n",
    "def degrees(G):\n",
    "    dg=pd.DataFrame(G.degree(),columns=[\"STATE\",\"degree\"])\n",
    "    indg=pd.DataFrame(G.in_degree(),columns=[\"STATE\",\"in_degree\"]).drop(columns=[\"STATE\"])\n",
    "    outdg=pd.DataFrame(G.out_degree(),columns=[\"STATE\",\"out_degree\"]).drop(columns=[\"STATE\"])\n",
    "    \n",
    "    avg_neighbourhood_dg=pd.Series(nx.average_neighbor_degree(G)).to_frame(\"avg_neighg_degree\").reset_index().drop(columns=[\"index\"])\n",
    "    decombo=pd.concat([dg,indg,outdg,avg_neighbourhood_dg],axis=1)\n",
    "    decombo=decombo.set_index(\"STATE\")\n",
    "    print(decombo)\n",
    "    return decombo\n",
    "        \n",
    "def neigbours(G):\n",
    "    nodes=list(G.nodes)\n",
    "    for nd in nodes:\n",
    "        a=[ngh for ngh in G[nd]]\n",
    "        print(nd+\" : \"+str(a))\n",
    "\n",
    "def simple_paths(G, source, target):\n",
    "    #nodes of simple paths \n",
    "    simple_paths_list=nx.all_simple_paths(G, source, target)\n",
    "    for path in simple_paths_list:     \n",
    "        print((\" -> \").join(path))\n",
    "\n",
    "    \n",
    "def hopbyhop_simple_paths(G, source, target):\n",
    "    #To get each path as the corresponding list of edges, you can use the networkx.utils.pairwise() helper function:    \n",
    "    paths=nx.all_simple_paths(G, source, target)\n",
    "    for path in map(nx.utils.pairwise, paths):\n",
    "        print(list(path),\"\\n\")\n",
    "        \n",
    "    \n",
    "def hopbyhop_simple_paths_and_attributes(G, source, target):\n",
    "    #To get each path as the corresponding list of edges, you can use the networkx.utils.pairwise() helper function:    \n",
    "    paths=nx.all_simple_paths(G, source, target)\n",
    "    newpath_list=[]\n",
    "    for path in map(nx.utils.pairwise, paths):\n",
    "        newpath=[]\n",
    "        for nodes in path:\n",
    "            a,b=nodes\n",
    "            c=G.get_edge_data(*nodes)[0][Evt_SYMB]\n",
    "            #triple=a+\" -> \"+b+\" : \"+c\n",
    "            triple=c+\" : \"+a+\" -> \"+b\n",
    "            newpath.append(triple)\n",
    "        newpath_list.append(\"] -> \".join(newpath))\n",
    "    for p in newpath_list:\n",
    "        print(p)\n",
    "        print(\"\\n\")\n",
    "            \n",
    "def simple_paths_and_attributes_for_all_nodes(G):\n",
    "    nodes=list(G.nodes)\n",
    "    for i in nodes:\n",
    "        for j in reversed(nodes):\n",
    "            hopbyhop_simple_paths_and_attributes(G, i, j)           \n",
    "\n",
    "\n",
    "\n",
    "def simple_paths_for_all_nodes(G):\n",
    "    nodes=list(G.nodes)\n",
    "    for i in nodes:\n",
    "        for j in reversed(nodes):\n",
    "            simple_paths(G, i, j)\n",
    "\n",
    "\n",
    "\n",
    "def self_cyclic_nodes_in_the_graph(G):\n",
    "    sc=list(nx.nodes_with_selfloops(G))\n",
    "    print(sc)\n",
    "    return sc\n",
    "\n",
    "\n",
    "\n",
    "\n",
    "    \n",
    "def simple_cycles_for_all_nodes(G):\n",
    "    cycles=list(nx.simple_cycles(G))\n",
    "    for c in cycles:\n",
    "        print(c)\n",
    "    return cycles\n",
    "\n",
    "def simple_cycles_and_attributes_for_all_nodes(G):\n",
    "    #To get each path as the corresponding list of edges, you can use the networkx.utils.pairwise() helper function:    \n",
    "    paths=list(nx.simple_cycles(G))\n",
    "    for path in paths:\n",
    "        ## add start node to the end  --> to see complete sequence of Evts in the cycle\n",
    "        path.append(path[0])\n",
    "    newpath_list=[]\n",
    "    for path in map(nx.utils.pairwise, paths):\n",
    "\n",
    "        newpath=[]\n",
    "        for nodes in path:\n",
    "            a,b=nodes\n",
    "            c=G.get_edge_data(*nodes)[0][Evt_SYMB]\n",
    "            #triple=a+\" -> \"+b+\" : \"+c\n",
    "            triple=c+\" : \"+a+\" -> \"+b\n",
    "            newpath.append(triple)\n",
    "        newpath_list.append(\"] -> \".join(newpath))\n",
    "    for p in newpath_list:\n",
    "        print(p)\n",
    "        print(\"\\n\")\n",
    "\n",
    "def nodes_in_the_graph(G,verbose=True):\n",
    "    nodes=list(G.nodes)\n",
    "    if verbose==True:\n",
    "        print(nodes)\n",
    "    return(nodes)\n",
    "\n",
    "def edges_and_attributes_in_the_graph_v1(G):\n",
    "    res=[]\n",
    "    for node1, node2, data in G.edges.data():\n",
    "        print(node1+\" -> \"+node2+\" : \"+str(data))\n",
    "        res.append((node1,node2,data))\n",
    "    return(res)\n",
    "\n",
    "def edges_and_attributes_in_the_graph_v2(G,attr=Evt_SYMB,verbose=True):\n",
    "    res=[]\n",
    "    dd=nx.get_edge_attributes(G, attr)\n",
    "    for k,v in dd.items():\n",
    "        node1=k[0]\n",
    "        node2=k[1]\n",
    "        edge_label=v\n",
    "        res.append((node1,node2,edge_label))\n",
    "        if verbose==True:\n",
    "            print(node1+\" -> \"+node2+\" : \"+edge_label)\n",
    "    return res\n",
    "\n",
    "def edge_types_in_the_graph(G,verbose=True):\n",
    "    edge_types=[]\n",
    "    for node1, node2, data in G.edges.data():\n",
    "        edge_types.append(data[Evt_SYMB])\n",
    "    edge_types=set(edge_types)\n",
    "    if verbose==True:\n",
    "        print(edge_types)\n",
    "    return(list(edge_types))\n",
    "    \n",
    "def shortest_paths_for_all_nodes(G):\n",
    "    sp=list(nx.all_pairs_shortest_path_length(G))\n",
    "    print(sp)\n",
    "    return sp\n",
    "\n",
    "\n",
    "def unconnected_nodes_in_the_graph(G):\n",
    "    unc=list(nx.isolates(G))\n",
    "    print(unc)\n",
    "    return unc\n",
    "\n",
    "def TransitionTable(G):\n",
    "    edgetypes=edge_types_in_the_graph(G,verbose=False)\n",
    "    nodetypes=nodes_in_the_graph(G,verbose=False)\n",
    "    transtable=pd.DataFrame({},columns=edgetypes,index=nodetypes).fillna(\"_\")\n",
    "    trans=edges_and_attributes_in_the_graph_v2(G,attr=Evt_SYMB,verbose=False)\n",
    "    for tran in trans:\n",
    "        s,t,e=tran\n",
    "        transtable.loc[s,e]=t\n",
    "    with pd.option_context('display.max_rows', None, 'display.max_columns', None):  # more options can be specified also\n",
    "        print(transtable)\n",
    "        \n",
    "def condensed_graph(G):\n",
    "    GC=nx.condensation(G)\n",
    "    mapping_dict=GC.graph[\"mapping\"]\n",
    "    count_of_mapped_nodes=len(list(set(mapping_dict.values())))\n",
    "    print(\"count of final nodes:\",count_of_mapped_nodes)\n",
    "\n",
    "    print(\"node mappings:\\n\",GC.graph[\"mapping\"])\n",
    "    return GC\n",
    "   \n"
   ]
  },
  {
   "cell_type": "code",
   "execution_count": 12,
   "metadata": {},
   "outputs": [],
   "source": [
    "G=construct_graph_coffee_machine()\n",
    "#G=construct_graph_pin_automata()\n",
    "#G=construct_graph_count_double_zeros_automata_v1()\n",
    "#G=construct_graph_count_double_zeros_automata_v2()\n",
    "\n",
    "# nx.number_of_edges(u=\"making coffee\", v=\"idle\")\n",
    "# simple_paths(G, source=\"making coffee\", target=\"idle\")\n",
    "# hopbyhop_simple_paths(G, source=\"making coffee\", target=\"idle\")\n",
    "# hopbyhop_simple_paths_and_attributes(G, source=\"making coffee\", target=\"idle\")\n",
    "# hopbyhop_simple_paths_and_attributes(G, source=\"idle\", target=[\"making coffee\",\"maintenance\"])\n"
   ]
  },
  {
   "cell_type": "code",
   "execution_count": 13,
   "metadata": {},
   "outputs": [
    {
     "name": "stdout",
     "output_type": "stream",
     "text": [
      "STATES:\n",
      "['idle', 'deposit', 'selection', 'making coffee', 'maintenance', 'off']\n",
      "Number of states:  6\n",
      "Number of transitions:  10\n",
      "\n"
     ]
    }
   ],
   "source": [
    "print(\"STATES:\")\n",
    "nodes=nodes_in_the_graph(G)\n",
    "print(\"Number of states: \", G.order())\n",
    "print(\"Number of transitions: \", G.size())\n",
    "print(\"\")\n"
   ]
  },
  {
   "cell_type": "code",
   "execution_count": 14,
   "metadata": {},
   "outputs": [
    {
     "name": "stdout",
     "output_type": "stream",
     "text": [
      "CONNECTIVITY TABLE:\n",
      "               degree  in_degree  out_degree  avg_neighg_degree\n",
      "STATE                                                          \n",
      "idle                6          5           1                3.0\n",
      "deposit             5          2           3                2.0\n",
      "selection           3          1           2                1.5\n",
      "making coffee       3          1           2                1.0\n",
      "maintenance         2          1           1                1.0\n",
      "off                 1          0           1                1.0\n",
      "\n"
     ]
    }
   ],
   "source": [
    "print(\"CONNECTIVITY TABLE:\")\n",
    "degrees(G)\n",
    "print(\"\")\n"
   ]
  },
  {
   "cell_type": "code",
   "execution_count": 15,
   "metadata": {},
   "outputs": [
    {
     "name": "stdout",
     "output_type": "stream",
     "text": [
      "NEIGBOUR STATES:\n",
      "idle : ['deposit']\n",
      "deposit : ['deposit', 'idle', 'selection']\n",
      "selection : ['idle', 'making coffee']\n",
      "making coffee : ['idle', 'maintenance']\n",
      "maintenance : ['idle']\n",
      "off : ['idle']\n",
      "\n"
     ]
    }
   ],
   "source": [
    "print(\"NEIGBOUR STATES:\")\n",
    "neigbours(G)\n",
    "print(\"\")  \n"
   ]
  },
  {
   "cell_type": "code",
   "execution_count": 16,
   "metadata": {},
   "outputs": [
    {
     "name": "stdout",
     "output_type": "stream",
     "text": [
      "EVENT TYPES\n",
      "{'power up', 'cup removed', 'button pushed', 'reset button', 'sensor alert', 'coin return', 'rigth amount entered', 'coin inserted'}\n",
      "\n"
     ]
    }
   ],
   "source": [
    "print(\"EVENT TYPES\")\n",
    "edge_types_in_the_graph(G)\n",
    "print(\"\")\n"
   ]
  },
  {
   "cell_type": "code",
   "execution_count": 17,
   "metadata": {},
   "outputs": [
    {
     "name": "stdout",
     "output_type": "stream",
     "text": [
      "SELF CYCLIC STATES\n",
      "['deposit']\n",
      "\n"
     ]
    }
   ],
   "source": [
    "print(\"SELF CYCLIC STATES\")\n",
    "self_cyclic_nodes_in_the_graph(G)\n",
    "print(\"\")\n"
   ]
  },
  {
   "cell_type": "code",
   "execution_count": 18,
   "metadata": {},
   "outputs": [
    {
     "name": "stdout",
     "output_type": "stream",
     "text": [
      "ISOLATE/UNCONNECTED NODES\n",
      "[]\n",
      "\n"
     ]
    }
   ],
   "source": [
    "print(\"ISOLATE/UNCONNECTED NODES\")\n",
    "unconnected_nodes_in_the_graph(G)\n",
    "print(\"\")\n"
   ]
  },
  {
   "cell_type": "code",
   "execution_count": 19,
   "metadata": {},
   "outputs": [
    {
     "name": "stdout",
     "output_type": "stream",
     "text": [
      "STRONG CONNECTIVITY PROPERTIES:\n",
      "is strongly connected:  False\n",
      "number of strongly connected components:  2\n",
      "List of strongly connected components:\n",
      "[{'making coffee', 'deposit', 'idle', 'selection', 'maintenance'}, {'off'}]\n",
      "Largest strongly connected components:\n",
      "{'making coffee', 'deposit', 'idle', 'selection', 'maintenance'}\n",
      "Smallest strongly connected components:\n",
      "{'off'}\n",
      "\n"
     ]
    }
   ],
   "source": [
    "#Strong connectivity\n",
    "print(\"STRONG CONNECTIVITY PROPERTIES:\")\n",
    "print(\"is strongly connected: \", nx.is_strongly_connected(G)) # A directed graph is strongly connected if and only if every vertex in the graph is reachable from every other vertex.\n",
    "print(\"number of strongly connected components: \", nx.number_strongly_connected_components(G))\n",
    "print(\"List of strongly connected components:\")\n",
    "print(list(nx.strongly_connected_components(G)))\n",
    "print(\"Largest strongly connected components:\")\n",
    "print(max(nx.strongly_connected_components(G), key=len)) # FSM can  be strongly connected. Strongly connected FSM must include all nodes\n",
    "print(\"Smallest strongly connected components:\")\n",
    "print(min(nx.strongly_connected_components(G), key=len))\n",
    "print(\"\")\n"
   ]
  },
  {
   "cell_type": "code",
   "execution_count": 20,
   "metadata": {},
   "outputs": [
    {
     "name": "stdout",
     "output_type": "stream",
     "text": [
      "WEAK CONNECTIVITY PROPERTIES:\n",
      "is weakly connected:  True\n",
      "number of weakly connected components:  1\n",
      "List of weakly connected components:\n",
      "[{'making coffee', 'deposit', 'idle', 'selection', 'off', 'maintenance'}]\n",
      "\n"
     ]
    }
   ],
   "source": [
    "#Weak connectivity\n",
    "print(\"WEAK CONNECTIVITY PROPERTIES:\")\n",
    "print(\"is weakly connected: \", nx.is_weakly_connected(G)) # A directed graph is weakly connected if and only if the graph is connected when the direction of the edge between nodes is ignored\n",
    "print(\"number of weakly connected components: \", nx.number_weakly_connected_components(G))\n",
    "print(\"List of weakly connected components:\")\n",
    "print(list(nx.weakly_connected_components(G)))\n",
    "print(\"\")\n"
   ]
  },
  {
   "cell_type": "code",
   "execution_count": 21,
   "metadata": {},
   "outputs": [
    {
     "name": "stdout",
     "output_type": "stream",
     "text": [
      "ATTRACTING COMPONENTS PROPERTIES:\n",
      "is the graph attracting component:  False\n",
      "number of attracting components:  1\n",
      "List of attracting components:\n",
      "[{'making coffee', 'deposit', 'idle', 'selection', 'maintenance'}]\n",
      "\n"
     ]
    }
   ],
   "source": [
    "#Attracting components\n",
    "print(\"ATTRACTING COMPONENTS PROPERTIES:\")\n",
    "print(\"is the graph attracting component: \", nx.is_attracting_component(G)) # Returns True if G consists of a single attracting component\n",
    "print(\"number of attracting components: \", nx.number_attracting_components(G))\n",
    "print(\"List of attracting components:\")\n",
    "print(list(nx.attracting_components(G))) # An attracting component in a directed graph G is a strongly connected component with the property that a random walker on the graph will never leave the component, once it enters the component.\n",
    "print(\"\")\n"
   ]
  },
  {
   "cell_type": "code",
   "execution_count": 22,
   "metadata": {},
   "outputs": [
    {
     "name": "stdout",
     "output_type": "stream",
     "text": [
      "TRANSITIONS and EVENTS\n",
      "idle -> deposit : coin inserted\n",
      "deposit -> deposit : coin inserted\n",
      "deposit -> idle : coin return\n",
      "deposit -> selection : rigth amount entered\n",
      "selection -> idle : coin return\n",
      "selection -> making coffee : button pushed\n",
      "making coffee -> idle : cup removed\n",
      "making coffee -> maintenance : sensor alert\n",
      "maintenance -> idle : reset button\n",
      "off -> idle : power up\n",
      "\n"
     ]
    }
   ],
   "source": [
    "print(\"TRANSITIONS and EVENTS\")\n",
    "edges_and_attributes_in_the_graph_v2(G)\n",
    "print(\"\")\n"
   ]
  },
  {
   "cell_type": "code",
   "execution_count": 23,
   "metadata": {},
   "outputs": [
    {
     "name": "stdout",
     "output_type": "stream",
     "text": [
      "TRANSITIONS TABLE\n",
      "              power up cup removed  button pushed reset button sensor alert  \\\n",
      "idle                 _           _              _            _            _   \n",
      "deposit              _           _              _            _            _   \n",
      "selection            _           _  making coffee            _            _   \n",
      "making coffee        _        idle              _            _  maintenance   \n",
      "maintenance          _           _              _         idle            _   \n",
      "off               idle           _              _            _            _   \n",
      "\n",
      "              coin return rigth amount entered coin inserted  \n",
      "idle                    _                    _       deposit  \n",
      "deposit              idle            selection       deposit  \n",
      "selection            idle                    _             _  \n",
      "making coffee           _                    _             _  \n",
      "maintenance             _                    _             _  \n",
      "off                     _                    _             _  \n",
      "\n"
     ]
    }
   ],
   "source": [
    "print(\"TRANSITIONS TABLE\")\n",
    "TransitionTable(G)\n",
    "print(\"\")\n"
   ]
  },
  {
   "cell_type": "code",
   "execution_count": 24,
   "metadata": {},
   "outputs": [
    {
     "name": "stdout",
     "output_type": "stream",
     "text": [
      "SHORTEST PATH LENGTHS \n",
      "[('idle', {'idle': 0, 'deposit': 1, 'selection': 2, 'making coffee': 3, 'maintenance': 4}), ('deposit', {'deposit': 0, 'idle': 1, 'selection': 1, 'making coffee': 2, 'maintenance': 3}), ('selection', {'selection': 0, 'idle': 1, 'making coffee': 1, 'deposit': 2, 'maintenance': 2}), ('making coffee', {'making coffee': 0, 'idle': 1, 'maintenance': 1, 'deposit': 2, 'selection': 3}), ('maintenance', {'maintenance': 0, 'idle': 1, 'deposit': 2, 'selection': 3, 'making coffee': 4}), ('off', {'off': 0, 'idle': 1, 'deposit': 2, 'selection': 3, 'making coffee': 4, 'maintenance': 5})]\n",
      "\n"
     ]
    }
   ],
   "source": [
    "print(\"SHORTEST PATH LENGTHS \")\n",
    "shortest_paths_for_all_nodes(G)\n",
    "print(\"\")\n"
   ]
  },
  {
   "cell_type": "code",
   "execution_count": 25,
   "metadata": {},
   "outputs": [
    {
     "name": "stdout",
     "output_type": "stream",
     "text": [
      "TRANSITION PATHS\n",
      "(Paths are simple paths with no repeated nodes)\n",
      "idle -> deposit -> selection -> making coffee -> maintenance\n",
      "idle -> deposit -> selection -> making coffee\n",
      "idle -> deposit -> selection\n",
      "idle -> deposit\n",
      "deposit -> selection -> making coffee -> maintenance\n",
      "deposit -> selection -> making coffee\n",
      "deposit -> selection\n",
      "deposit -> idle\n",
      "deposit -> selection -> idle\n",
      "deposit -> selection -> making coffee -> idle\n",
      "deposit -> selection -> making coffee -> maintenance -> idle\n",
      "selection -> making coffee -> maintenance\n",
      "selection -> making coffee\n",
      "selection -> idle -> deposit\n",
      "selection -> making coffee -> idle -> deposit\n",
      "selection -> making coffee -> maintenance -> idle -> deposit\n",
      "selection -> idle\n",
      "selection -> making coffee -> idle\n",
      "selection -> making coffee -> maintenance -> idle\n",
      "making coffee -> maintenance\n",
      "making coffee -> idle -> deposit -> selection\n",
      "making coffee -> maintenance -> idle -> deposit -> selection\n",
      "making coffee -> idle -> deposit\n",
      "making coffee -> maintenance -> idle -> deposit\n",
      "making coffee -> idle\n",
      "making coffee -> maintenance -> idle\n",
      "maintenance -> idle -> deposit -> selection -> making coffee\n",
      "maintenance -> idle -> deposit -> selection\n",
      "maintenance -> idle -> deposit\n",
      "maintenance -> idle\n",
      "off -> idle -> deposit -> selection -> making coffee -> maintenance\n",
      "off -> idle -> deposit -> selection -> making coffee\n",
      "off -> idle -> deposit -> selection\n",
      "off -> idle -> deposit\n",
      "off -> idle\n",
      "\n"
     ]
    }
   ],
   "source": [
    "print(\"TRANSITION PATHS\\n(Paths are simple paths with no repeated nodes)\")\n",
    "simple_paths_for_all_nodes(G)\n",
    "print(\"\")\n"
   ]
  },
  {
   "cell_type": "code",
   "execution_count": 26,
   "metadata": {},
   "outputs": [
    {
     "name": "stdout",
     "output_type": "stream",
     "text": [
      "CYCLIC TRANSITION PATHS\n",
      "(closed paths/ circuits)\n",
      "['deposit']\n",
      "['making coffee', 'maintenance', 'idle', 'deposit', 'selection']\n",
      "['making coffee', 'idle', 'deposit', 'selection']\n",
      "['selection', 'idle', 'deposit']\n",
      "['deposit', 'idle']\n",
      "\n",
      "TRANSITION PATHS AND EVENTS\n",
      "(Paths are simple paths with no repeated nodes)\n",
      "\n",
      "coin inserted : idle -> deposit] -> rigth amount entered : deposit -> selection] -> button pushed : selection -> making coffee] -> sensor alert : making coffee -> maintenance\n",
      "\n",
      "\n",
      "coin inserted : idle -> deposit] -> rigth amount entered : deposit -> selection] -> button pushed : selection -> making coffee\n",
      "\n",
      "\n",
      "coin inserted : idle -> deposit] -> rigth amount entered : deposit -> selection\n",
      "\n",
      "\n",
      "coin inserted : idle -> deposit\n",
      "\n",
      "\n",
      "rigth amount entered : deposit -> selection] -> button pushed : selection -> making coffee] -> sensor alert : making coffee -> maintenance\n",
      "\n",
      "\n",
      "rigth amount entered : deposit -> selection] -> button pushed : selection -> making coffee\n",
      "\n",
      "\n",
      "rigth amount entered : deposit -> selection\n",
      "\n",
      "\n",
      "coin return : deposit -> idle\n",
      "\n",
      "\n",
      "rigth amount entered : deposit -> selection] -> coin return : selection -> idle\n",
      "\n",
      "\n",
      "rigth amount entered : deposit -> selection] -> button pushed : selection -> making coffee] -> cup removed : making coffee -> idle\n",
      "\n",
      "\n",
      "rigth amount entered : deposit -> selection] -> button pushed : selection -> making coffee] -> sensor alert : making coffee -> maintenance] -> reset button : maintenance -> idle\n",
      "\n",
      "\n",
      "button pushed : selection -> making coffee] -> sensor alert : making coffee -> maintenance\n",
      "\n",
      "\n",
      "button pushed : selection -> making coffee\n",
      "\n",
      "\n",
      "coin return : selection -> idle] -> coin inserted : idle -> deposit\n",
      "\n",
      "\n",
      "button pushed : selection -> making coffee] -> cup removed : making coffee -> idle] -> coin inserted : idle -> deposit\n",
      "\n",
      "\n",
      "button pushed : selection -> making coffee] -> sensor alert : making coffee -> maintenance] -> reset button : maintenance -> idle] -> coin inserted : idle -> deposit\n",
      "\n",
      "\n",
      "coin return : selection -> idle\n",
      "\n",
      "\n",
      "button pushed : selection -> making coffee] -> cup removed : making coffee -> idle\n",
      "\n",
      "\n",
      "button pushed : selection -> making coffee] -> sensor alert : making coffee -> maintenance] -> reset button : maintenance -> idle\n",
      "\n",
      "\n",
      "sensor alert : making coffee -> maintenance\n",
      "\n",
      "\n",
      "cup removed : making coffee -> idle] -> coin inserted : idle -> deposit] -> rigth amount entered : deposit -> selection\n",
      "\n",
      "\n",
      "sensor alert : making coffee -> maintenance] -> reset button : maintenance -> idle] -> coin inserted : idle -> deposit] -> rigth amount entered : deposit -> selection\n",
      "\n",
      "\n",
      "cup removed : making coffee -> idle] -> coin inserted : idle -> deposit\n",
      "\n",
      "\n",
      "sensor alert : making coffee -> maintenance] -> reset button : maintenance -> idle] -> coin inserted : idle -> deposit\n",
      "\n",
      "\n",
      "cup removed : making coffee -> idle\n",
      "\n",
      "\n",
      "sensor alert : making coffee -> maintenance] -> reset button : maintenance -> idle\n",
      "\n",
      "\n",
      "reset button : maintenance -> idle] -> coin inserted : idle -> deposit] -> rigth amount entered : deposit -> selection] -> button pushed : selection -> making coffee\n",
      "\n",
      "\n",
      "reset button : maintenance -> idle] -> coin inserted : idle -> deposit] -> rigth amount entered : deposit -> selection\n",
      "\n",
      "\n",
      "reset button : maintenance -> idle] -> coin inserted : idle -> deposit\n",
      "\n",
      "\n",
      "reset button : maintenance -> idle\n",
      "\n",
      "\n",
      "power up : off -> idle] -> coin inserted : idle -> deposit] -> rigth amount entered : deposit -> selection] -> button pushed : selection -> making coffee] -> sensor alert : making coffee -> maintenance\n",
      "\n",
      "\n",
      "power up : off -> idle] -> coin inserted : idle -> deposit] -> rigth amount entered : deposit -> selection] -> button pushed : selection -> making coffee\n",
      "\n",
      "\n",
      "power up : off -> idle] -> coin inserted : idle -> deposit] -> rigth amount entered : deposit -> selection\n",
      "\n",
      "\n",
      "power up : off -> idle] -> coin inserted : idle -> deposit\n",
      "\n",
      "\n",
      "power up : off -> idle\n",
      "\n",
      "\n"
     ]
    }
   ],
   "source": [
    "print(\"CYCLIC TRANSITION PATHS\\n(closed paths/ circuits)\")\n",
    "simple_cycles_for_all_nodes(G)\n",
    "print(\"\")\n",
    "print(\"TRANSITION PATHS AND EVENTS\\n(Paths are simple paths with no repeated nodes)\")\n",
    "print(\"\")\n",
    "simple_paths_and_attributes_for_all_nodes(G)\n",
    "\n"
   ]
  },
  {
   "cell_type": "code",
   "execution_count": 27,
   "metadata": {},
   "outputs": [
    {
     "name": "stdout",
     "output_type": "stream",
     "text": [
      "CYCLIC TRANSITION PATHS AND EVENTS\n",
      "(loops)\n",
      "\n",
      "coin inserted : deposit -> deposit\n",
      "\n",
      "\n",
      "sensor alert : making coffee -> maintenance] -> reset button : maintenance -> idle] -> coin inserted : idle -> deposit] -> rigth amount entered : deposit -> selection] -> button pushed : selection -> making coffee\n",
      "\n",
      "\n",
      "cup removed : making coffee -> idle] -> coin inserted : idle -> deposit] -> rigth amount entered : deposit -> selection] -> button pushed : selection -> making coffee\n",
      "\n",
      "\n",
      "coin return : selection -> idle] -> coin inserted : idle -> deposit] -> rigth amount entered : deposit -> selection\n",
      "\n",
      "\n",
      "coin return : deposit -> idle] -> coin inserted : idle -> deposit\n",
      "\n",
      "\n"
     ]
    }
   ],
   "source": [
    "print(\"CYCLIC TRANSITION PATHS AND EVENTS\\n(loops)\")\n",
    "print(\"\")\n",
    "simple_cycles_and_attributes_for_all_nodes(G)\n"
   ]
  },
  {
   "cell_type": "code",
   "execution_count": 28,
   "metadata": {},
   "outputs": [
    {
     "name": "stdout",
     "output_type": "stream",
     "text": [
      "COLLAPSED GRAPH\n",
      "(nodes that can be merged)\n",
      "count of final nodes: 2\n",
      "node mappings:\n",
      " {'making coffee': 0, 'deposit': 0, 'idle': 0, 'selection': 0, 'maintenance': 0, 'off': 1}\n"
     ]
    },
    {
     "data": {
      "text/plain": [
       "<networkx.classes.digraph.DiGraph at 0x98a77b8>"
      ]
     },
     "execution_count": 28,
     "metadata": {},
     "output_type": "execute_result"
    }
   ],
   "source": [
    "\n",
    "print(\"COLLAPSED GRAPH\\n(nodes that can be merged)\")\n",
    "condensed_graph(G)\n",
    "\n"
   ]
  },
  {
   "cell_type": "code",
   "execution_count": 29,
   "metadata": {},
   "outputs": [
    {
     "data": {
      "image/png": "[encoded data removed]",
      "text/plain": [
       "<Figure size 1152x864 with 1 Axes>"
      ]
     },
     "metadata": {},
     "output_type": "display_data"
    }
   ],
   "source": [
    "draw_graph(G)"
   ]
  },
  {
   "cell_type": "code",
   "execution_count": 30,
   "metadata": {},
   "outputs": [],
   "source": [
    "df=nx.to_pandas_edgelist(G)\n",
    "df.to_csv(G.graph[\"title\"]+\"state_diagram_graph_structure.csv\",index=False)\n",
    "#sys.stdout.close()\n",
    "\n",
    "if False:\n",
    "    #load graph from file\n",
    "    dfl=pd.read_csv(\"state_diagram_graph_structure.csv\")\n",
    "    GFL=nx.from_pandas_edgelist(dfl,edge_attr=Evt_SYMB)\n",
    "    draw_graph(GFL)\n"
   ]
  },
  {
   "cell_type": "code",
   "execution_count": null,
   "metadata": {},
   "outputs": [],
   "source": []
  },
  {
   "cell_type": "code",
   "execution_count": null,
   "metadata": {},
   "outputs": [],
   "source": []
  }
 ],
 "metadata": {
  "kernelspec": {
   "display_name": "Python 3",
   "language": "python",
   "name": "python3"
  },
  "language_info": {
   "codemirror_mode": {
    "name": "ipython",
    "version": 3
   },
   "file_extension": ".py",
   "mimetype": "text/x-python",
   "name": "python",
   "nbconvert_exporter": "python",
   "pygments_lexer": "ipython3",
   "version": "3.7.1"
  }
 },
 "nbformat": 4,
 "nbformat_minor": 2
}
